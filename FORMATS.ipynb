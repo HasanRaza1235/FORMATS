{
 "cells": [
  {
   "cell_type": "code",
   "execution_count": 2,
   "metadata": {},
   "outputs": [
    {
     "name": "stdout",
     "output_type": "stream",
     "text": [
      "What is your name?hasan raza\n",
      "What is your age?18\n",
      "What is your education?inter\n",
      "what is your city?karachi\n",
      "what is your study?university\n",
      "what is your friendship?pretty\n",
      "My name is  hasan raza  and my age is  18 and My education is inter and I live in karachi and I am now study in university and my friends are so pretty \n"
     ]
    }
   ],
   "source": [
    "name = input(\"What is your name?\")\n",
    "age =  input(\"What is your age?\")\n",
    "education = input(\"What is your education?\")\n",
    "city = input(\"what is your city?\")\n",
    "study = input(\"what is your study?\")\n",
    "friendship = input(\"what is your friendship?\")\n",
    "print(\"My name is  {}  and my age is  {} and My education is {} and I live in {} and I am now study in {} and my friends are so {} \" .format(name , age , education , city , study , friendship )  )"
   ]
  },
  {
   "cell_type": "code",
   "execution_count": 4,
   "metadata": {},
   "outputs": [
    {
     "name": "stdout",
     "output_type": "stream",
     "text": [
      "What is your name?hasan raza\n",
      "What is your age?18\n",
      "What is your education?inter\n",
      "what is your city?karachi\n",
      "what is your study?university\n",
      "what is your friendship?pretty\n",
      "My name is  hasan raza  and my age is  18 . My education is inter and I live in karachi \n",
      " I am now study in university and my friends are so pretty \n"
     ]
    }
   ],
   "source": [
    "name = input(\"What is your name?\")\n",
    "age =  input(\"What is your age?\")\n",
    "education = input(\"What is your education?\")\n",
    "city = input(\"what is your city?\")\n",
    "study = input(\"what is your study?\")\n",
    "friendship = input(\"what is your friendship?\")\n",
    "print(\"My name is  {}  and my age is  {} . My education is {} and I live in {} \\n I am now study in {} and my friends are so {} \" .format(name , age , education , city , study , friendship )  )"
   ]
  },
  {
   "cell_type": "code",
   "execution_count": 5,
   "metadata": {},
   "outputs": [
    {
     "name": "stdout",
     "output_type": "stream",
     "text": [
      "What is your name?hasan raza\n",
      "What is your age?18\n",
      "What is your education?inter\n",
      "what is your city?karachi\n",
      "what is your study?uni\n",
      "what is your friendship?pretty\n",
      "My name is  hasan raza  and my age is  18 . My education is inter \\ and I live in karachi \n",
      " I am now study in uni . My friends are so pretty \n"
     ]
    }
   ],
   "source": [
    "name = input(\"What is your name?\")\n",
    "age =  input(\"What is your age?\")\n",
    "education = input(\"What is your education?\")\n",
    "city = input(\"what is your city?\")\n",
    "study = input(\"what is your study?\")\n",
    "friendship = input(\"what is your friendship?\")\n",
    "print(\"My name is  {}  and my age is  {} . My education is {} \\\\ and I live in {} \\n I am now study in {} . My friends are so {} \" .format(name , age , education , city , study , friendship )  )"
   ]
  },
  {
   "cell_type": "code",
   "execution_count": 17,
   "metadata": {},
   "outputs": [
    {
     "name": "stdout",
     "output_type": "stream",
     "text": [
      "My name is hasan raza and my age is 18 . My education is inter \\ and I live in karachi I am now study in uni. \n",
      " My friends are so pretty\n"
     ]
    }
   ],
   "source": [
    "name = \"hasan raza\"\n",
    "age = 18\n",
    "education = \"inter\"\n",
    "city = \"karachi\"\n",
    "study = \"uni\"\n",
    "friendship = \"pretty\"\n",
    "print(\"My name is \"  + name + \" and my age is \" + str( age ) + \" . My education is \" + education +  \" \\ and I live in \" + city +  \" I am now study in \" + study  +  \". \\n My friends are so \" + friendship )"
   ]
  },
  {
   "cell_type": "code",
   "execution_count": 16,
   "metadata": {},
   "outputs": [
    {
     "name": "stdout",
     "output_type": "stream",
     "text": [
      "What is your name?hasan raza\n",
      "What is your age?18\n",
      "What is your education?inter\n",
      "what is your city?karachi\n",
      "what is your study?uni\n",
      "what is your friendship?pretty\n",
      "My name is  hasan raza  and my age is  18 . My education is inter \\ and I live in karachi \n",
      " I am now study in uni . My friends are so pretty \n"
     ]
    }
   ],
   "source": [
    "name = input(\"What is your name?\")\n",
    "age =  input(\"What is your age?\")\n",
    "education = input(\"What is your education?\")\n",
    "city = input(\"what is your city?\")\n",
    "study = input(\"what is your study?\")\n",
    "friendship = input(\"what is your friendship?\")\n",
    "print(\"My name is  {0}  and my age is  {1} . My education is {2} \\\\ and I live in {3} \\n I am now study in {4} . My friends are so {5} \" .format(name , age , education , city , study , friendship )  )"
   ]
  },
  {
   "cell_type": "code",
   "execution_count": 14,
   "metadata": {},
   "outputs": [
    {
     "name": "stdout",
     "output_type": "stream",
     "text": [
      "what is  your age?18\n",
      "you have a ticket?yes\n",
      "your age is not valid\n"
     ]
    }
   ],
   "source": [
    "age = int(input(\"what is  your age?\"))\n",
    "ticket = input(\"you have a ticket?\").lower()\n",
    "if age > 20 :\n",
    "    print(\"your age is valid\")\n",
    "    if ticket == 'yes':\n",
    "        print(\"you may go now\")\n",
    "    else:\n",
    "        print(\"go and take a ticket from counter\")\n",
    "else:\n",
    "    print(\"your age is not valid\")\n",
    "        \n",
    "        \n",
    "        \n",
    "        \n"
   ]
  },
  {
   "cell_type": "code",
   "execution_count": 15,
   "metadata": {},
   "outputs": [
    {
     "name": "stdout",
     "output_type": "stream",
     "text": [
      "what is  your age?20\n",
      "you have a ticket?no\n",
      "your age is not valid\n"
     ]
    }
   ],
   "source": [
    "age = int(input(\"what is  your age?\"))\n",
    "ticket = input(\"you have a ticket?\").lower()\n",
    "if age > 20 :\n",
    "    print(\"your age is valid\")\n",
    "    if ticket == 'yes':\n",
    "        print(\"you may go now\")\n",
    "    else:\n",
    "        print(\"go and take a ticket from counter\")\n",
    "else:\n",
    "    print(\"your age is not valid\")"
   ]
  },
  {
   "cell_type": "code",
   "execution_count": 16,
   "metadata": {},
   "outputs": [
    {
     "name": "stdout",
     "output_type": "stream",
     "text": [
      "what is  your age?21\n",
      "you have a ticket?no\n",
      "your age is valid\n",
      "go and take a ticket from counter\n"
     ]
    }
   ],
   "source": [
    "age = int(input(\"what is  your age?\"))\n",
    "ticket = input(\"you have a ticket?\").lower()\n",
    "if age > 20 :\n",
    "    print(\"your age is valid\")\n",
    "    if ticket == 'yes':\n",
    "        print(\"you may go now\")\n",
    "    else:\n",
    "        print(\"go and take a ticket from counter\")\n",
    "else:\n",
    "    print(\"your age is not valid\")"
   ]
  },
  {
   "cell_type": "code",
   "execution_count": 17,
   "metadata": {},
   "outputs": [
    {
     "name": "stdout",
     "output_type": "stream",
     "text": [
      "what is  your age?21\n",
      "you have a ticket?yes\n",
      "your age is valid\n",
      "you may go now\n"
     ]
    }
   ],
   "source": [
    "age = int(input(\"what is  your age?\"))\n",
    "ticket = input(\"you have a ticket?\").lower()\n",
    "if age > 20 :\n",
    "    print(\"your age is valid\")\n",
    "    if ticket == 'yes':\n",
    "        print(\"you may go now\")\n",
    "    else:\n",
    "        print(\"go and take a ticket from counter\")\n",
    "else:\n",
    "    print(\"your age is not valid\")"
   ]
  },
  {
   "cell_type": "code",
   "execution_count": 19,
   "metadata": {},
   "outputs": [
    {
     "name": "stdout",
     "output_type": "stream",
     "text": [
      "kya apke paas nic he?yes\n",
      "kya apka name voter list me he?no\n",
      "ap dafa ho skte hen\n"
     ]
    }
   ],
   "source": [
    "nic = input(\"kya apke paas nic he?\"). lower()\n",
    "voterlist = input(\"kya apka name voter list me he?\").lower()\n",
    "if nic ==\"yes\" and voterlist==\"yes\" :\n",
    "    print(\"ap vote daal skte hen\")\n",
    "else :\n",
    "    print(\"ap dafa ho skte hen\")"
   ]
  },
  {
   "cell_type": "code",
   "execution_count": 20,
   "metadata": {},
   "outputs": [
    {
     "name": "stdout",
     "output_type": "stream",
     "text": [
      "kya tere paas kagzat hen?han\n",
      "driving papers hen?nh\n",
      "chae pani de kr ja\n"
     ]
    }
   ],
   "source": [
    "papers = input(\"kya tere paas kagzat hen?\"). lower()\n",
    "drivingpapers = input(\"driving papers hen?\") . lower()\n",
    "if papers ==\"yes\":\n",
    "    print(\"chl nikl\")\n",
    "elif drivingpapers == \"yes\":\n",
    "    print(\"dafa ho\")\n",
    "else:\n",
    "    print(\"chae pani de kr ja\")"
   ]
  },
  {
   "cell_type": "code",
   "execution_count": 21,
   "metadata": {},
   "outputs": [
    {
     "name": "stdout",
     "output_type": "stream",
     "text": [
      "kya tere paas kagzat hen?nh\n",
      "driving papers hen?nh\n",
      "chae pani de kr ja\n"
     ]
    }
   ],
   "source": [
    "papers = input(\"kya tere paas kagzat hen?\"). lower()\n",
    "drivingpapers = input(\"driving papers hen?\") . lower()\n",
    "if papers ==\"yes\":\n",
    "    print(\"chl nikl\")\n",
    "elif drivingpapers == \"yes\":\n",
    "    print(\"dafa ho\")\n",
    "else:\n",
    "    print(\"chae pani de kr ja\")"
   ]
  },
  {
   "cell_type": "code",
   "execution_count": 22,
   "metadata": {},
   "outputs": [
    {
     "name": "stdout",
     "output_type": "stream",
     "text": [
      "kya tere paas kagzat hen?nh\n",
      "driving papers hen?han\n",
      "chae pani de kr ja\n"
     ]
    }
   ],
   "source": [
    "papers = input(\"kya tere paas kagzat hen?\"). lower()\n",
    "drivingpapers = input(\"driving papers hen?\") . lower()\n",
    "if papers ==\"yes\":\n",
    "    print(\"chl nikl\")\n",
    "elif drivingpapers == \"yes\":\n",
    "    print(\"dafa ho\")\n",
    "else:\n",
    "    print(\"chae pani de kr ja\")"
   ]
  },
  {
   "cell_type": "code",
   "execution_count": 23,
   "metadata": {},
   "outputs": [
    {
     "name": "stdout",
     "output_type": "stream",
     "text": [
      "kya tere paas kagzat hen?no\n",
      "driving papers hen?yes\n",
      "dafa ho\n"
     ]
    }
   ],
   "source": [
    "papers = input(\"kya tere paas kagzat hen?\"). lower()\n",
    "drivingpapers = input(\"driving papers hen?\") . lower()\n",
    "if papers ==\"yes\":\n",
    "    print(\"chl nikl\")\n",
    "elif drivingpapers == \"yes\":\n",
    "    print(\"dafa ho\")\n",
    "else:\n",
    "    print(\"chae pani de kr ja\")"
   ]
  },
  {
   "cell_type": "code",
   "execution_count": 30,
   "metadata": {},
   "outputs": [
    {
     "name": "stdout",
     "output_type": "stream",
     "text": [
      "kya tere paas kagzat hen?yes\n",
      "driving papers hen?no\n",
      "dafa ho\n"
     ]
    }
   ],
   "source": [
    "papers = input(\"kya tere paas kagzat hen?\"). lower()\n",
    "drivingpapers = input(\"driving papers hen?\") . lower()\n",
    "if papers ==\"yes\" or  drivingpapers == \"yes\":\n",
    "    print(\"dafa ho\")\n",
    "else:\n",
    "        print(\"chae pani de kr ja\")\n",
    "    "
   ]
  }
 ],
 "metadata": {
  "kernelspec": {
   "display_name": "Python 3",
   "language": "python",
   "name": "python3"
  },
  "language_info": {
   "codemirror_mode": {
    "name": "ipython",
    "version": 3
   },
   "file_extension": ".py",
   "mimetype": "text/x-python",
   "name": "python",
   "nbconvert_exporter": "python",
   "pygments_lexer": "ipython3",
   "version": "3.7.3"
  }
 },
 "nbformat": 4,
 "nbformat_minor": 2
}
